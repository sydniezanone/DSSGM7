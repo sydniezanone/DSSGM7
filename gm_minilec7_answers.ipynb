{
 "cells": [
  {
   "cell_type": "code",
   "execution_count": 29,
   "metadata": {},
   "outputs": [],
   "source": [
    "import pandas as pd\n",
    "from datascience import *\n",
    "import numpy as np\n",
    "import matplotlib.pyplot as plt\n",
    "%matplotlib inline"
   ]
  },
  {
   "cell_type": "markdown",
   "metadata": {},
   "source": [
    "<h2>Hypothesis Test Example</h2>"
   ]
  },
  {
   "cell_type": "markdown",
   "metadata": {},
   "source": [
    "It is a fact that about 10% of the population is made up of lefties.\n",
    "\n",
    "However, after taking a random sample of 500 UC Berkeley students, we discover that 13% of them were left-handed. Now, we suspect that students at UC Berkeley are more likely to be left-handed than the rest of the population. How can we test this? With a hypothesis test!"
   ]
  },
  {
   "cell_type": "markdown",
   "metadata": {},
   "source": [
    "<h3>Hypotheses</h3>"
   ]
  },
  {
   "cell_type": "markdown",
   "metadata": {},
   "source": [
    "Null: 10% of UC Berkeley students are left-handed, just as the rest of the population is. Any difference is due to random chance.\n",
    "\n",
    "Alternative: UC Berkeley students are more likely to be left-handed than the rest of the population."
   ]
  },
  {
   "cell_type": "code",
   "execution_count": 83,
   "metadata": {},
   "outputs": [],
   "source": [
    "def sample_proportions(sample_size, model_props):\n",
    "    \"\"\"Serves the same purpose as the DataScience package 'sample_proportions' function.\"\"\"\n",
    "    return np.random.multinomial(sample_size, model_props)/sample_size"
   ]
  },
  {
   "cell_type": "markdown",
   "metadata": {},
   "source": [
    "<h3>Choosing a Test Statistic</h3>"
   ]
  },
  {
   "cell_type": "markdown",
   "metadata": {},
   "source": [
    "What would be a good choice?\n",
    "\n",
    "a) Absolute difference of the proportion of UC Berkeley students who are left-handed and 0.10\n",
    "\n",
    "b) Proportion of UC Berkeley students who are left-handed - 0.10\n",
    "\n",
    "c) Proportion of UC Berkeley students who are left-handed"
   ]
  },
  {
   "cell_type": "markdown",
   "metadata": {},
   "source": [
    "<h3>Observed Value of the Test Statistic</h3>"
   ]
  },
  {
   "cell_type": "code",
   "execution_count": 108,
   "metadata": {},
   "outputs": [],
   "source": [
    "obs_val = 0.13"
   ]
  },
  {
   "cell_type": "markdown",
   "metadata": {},
   "source": [
    "<h3>Simulating Values of the Test Statistic Under the Null</h3>"
   ]
  },
  {
   "cell_type": "code",
   "execution_count": 148,
   "metadata": {},
   "outputs": [
    {
     "data": {
      "text/plain": [
       "(array([  2.,   7.,  36., 150., 224., 238., 215.,  84.,  33.,  11.]),\n",
       " array([0.054 , 0.0626, 0.0712, 0.0798, 0.0884, 0.097 , 0.1056, 0.1142,\n",
       "        0.1228, 0.1314, 0.14  ]),\n",
       " <a list of 10 Patch objects>)"
      ]
     },
     "execution_count": 148,
     "metadata": {},
     "output_type": "execute_result"
    },
    {
     "data": {
      "image/png": "[encoded data removed]",
      "text/plain": [
       "<Figure size 432x288 with 1 Axes>"
      ]
     },
     "metadata": {
      "needs_background": "light"
     },
     "output_type": "display_data"
    }
   ],
   "source": [
    "model_proportions = [0.10, 0.90]\n",
    "simulated_prop_lefties = []\n",
    "\n",
    "for i in range(1000):\n",
    "    sim_stat = sample_proportions(500, model_proportions)\n",
    "    sim_left_prop = sim_stat[0]\n",
    "    simulated_prop_lefties.append(sim_left_prop)\n",
    "#simulated_prop_lefties\n",
    "    \n",
    "\n",
    "simulated_prop_lefties = np.array(simulated_prop_lefties)\n",
    "\n",
    "plt.hist(simulated_prop_lefties)"
   ]
  },
  {
   "cell_type": "markdown",
   "metadata": {},
   "source": [
    "<h3>Calculating Confidence Interval</h3>"
   ]
  },
  {
   "cell_type": "code",
   "execution_count": 175,
   "metadata": {},
   "outputs": [
    {
     "data": {
      "text/plain": [
       "array([0.07395, 0.126  ])"
      ]
     },
     "execution_count": 175,
     "metadata": {},
     "output_type": "execute_result"
    }
   ],
   "source": [
    "left_end = np.percentile(simulated_proportion_lefties, 2.5)#percentile(25, simulated_proportion_lefties)\n",
    "right_end = np.percentile(simulated_proportion_lefties, 97.5)\n",
    "ci = make_array(left_end, right_end)\n",
    "ci"
   ]
  },
  {
   "cell_type": "code",
   "execution_count": 177,
   "metadata": {},
   "outputs": [
    {
     "data": {
      "text/plain": [
       "<matplotlib.collections.PathCollection at 0x7f25b0caca90>"
      ]
     },
     "execution_count": 177,
     "metadata": {},
     "output_type": "execute_result"
    },
    {
     "data": {
      "image/png": "[encoded data removed]",
      "text/plain": [
       "<Figure size 432x288 with 1 Axes>"
      ]
     },
     "metadata": {
      "needs_background": "light"
     },
     "output_type": "display_data"
    }
   ],
   "source": [
    "plt.hist(simulated_prop_lefties)\n",
    "plt.plot(ci, [0,0], color = 'yellow')\n",
    "plt.scatter(obs_val, 0, color = 'red')"
   ]
  },
  {
   "cell_type": "markdown",
   "metadata": {},
   "source": [
    "<h3>Calculating P-Value</h3>"
   ]
  },
  {
   "cell_type": "code",
   "execution_count": 178,
   "metadata": {},
   "outputs": [
    {
     "data": {
      "text/plain": [
       "0.015"
      ]
     },
     "execution_count": 178,
     "metadata": {},
     "output_type": "execute_result"
    }
   ],
   "source": [
    "#show how changing the value of the obs_val causes the dot to be in the CI/out of it. \n",
    "p_value = sum(simulated_prop_lefties >= obs_val)/len(simulated_prop_lefties)\n",
    "p_value"
   ]
  }
 ],
 "metadata": {
  "kernelspec": {
   "display_name": "Python 3",
   "language": "python",
   "name": "python3"
  },
  "language_info": {
   "codemirror_mode": {
    "name": "ipython",
    "version": 3
   },
   "file_extension": ".py",
   "mimetype": "text/x-python",
   "name": "python",
   "nbconvert_exporter": "python",
   "pygments_lexer": "ipython3",
   "version": "3.6.9"
  }
 },
 "nbformat": 4,
 "nbformat_minor": 4
}
